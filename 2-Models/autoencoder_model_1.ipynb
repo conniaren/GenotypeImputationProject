{
  "nbformat": 4,
  "nbformat_minor": 0,
  "metadata": {
    "colab": {
      "name": "autoencoder_model_1.ipynb",
      "provenance": [],
      "authorship_tag": "ABX9TyMGtmSzfQKfhIcGGytaPe6d",
      "include_colab_link": true
    },
    "kernelspec": {
      "name": "python3",
      "display_name": "Python 3"
    },
    "language_info": {
      "name": "python"
    }
  },
  "cells": [
    {
      "cell_type": "markdown",
      "metadata": {
        "id": "view-in-github",
        "colab_type": "text"
      },
      "source": [
        "<a href=\"https://colab.research.google.com/github/conniaren/GenotypeImputationProject/blob/master/2-Models/autoencoder_model_1.ipynb\" target=\"_parent\"><img src=\"https://colab.research.google.com/assets/colab-badge.svg\" alt=\"Open In Colab\"/></a>"
      ]
    },
    {
      "cell_type": "code",
      "metadata": {
        "colab": {
          "base_uri": "https://localhost:8080/"
        },
        "id": "01LCFTzdvqSi",
        "outputId": "13434838-6656-4dc5-9423-93d1babe4f8a"
      },
      "source": [
        "from google.colab import drive\n",
        "drive.mount('/content/gdrive')\n",
        "import scipy\n",
        "from scipy import sparse \n",
        "import numpy as np\n",
        "import torch\n",
        "from torch.utils.data import DataLoader, TensorDataset"
      ],
      "execution_count": 9,
      "outputs": [
        {
          "output_type": "stream",
          "name": "stdout",
          "text": [
            "Drive already mounted at /content/gdrive; to attempt to forcibly remount, call drive.mount(\"/content/gdrive\", force_remount=True).\n"
          ]
        }
      ]
    },
    {
      "cell_type": "code",
      "metadata": {
        "id": "ywKd_yhSzHSv"
      },
      "source": [
        "#upload dataset\n",
        "dataset = sparse.load_npz('gdrive/My Drive/Colab Notebooks/output_matrix.npz')\n",
        "\n",
        "#initialize dataloader for dataset\n",
        "genotype_dataset = TensorDataset(torch.tensor(dataset.todense(), dtype=torch.float64))\n",
        "dataloader = DataLoader(genotype_dataset, batch_size = 10, shuffle = True, num_workers=2, pin_memory=True)"
      ],
      "execution_count": 10,
      "outputs": []
    }
  ]
}