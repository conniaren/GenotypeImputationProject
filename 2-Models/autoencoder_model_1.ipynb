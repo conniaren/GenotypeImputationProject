{
  "nbformat": 4,
  "nbformat_minor": 0,
  "metadata": {
    "colab": {
      "name": "autoencoder_model_1.ipynb",
      "provenance": [],
      "authorship_tag": "ABX9TyOabvBoItdcbt1E7+fRHSjT",
      "include_colab_link": true
    },
    "kernelspec": {
      "name": "python3",
      "display_name": "Python 3"
    },
    "language_info": {
      "name": "python"
    },
    "accelerator": "GPU"
  },
  "cells": [
    {
      "cell_type": "markdown",
      "metadata": {
        "id": "view-in-github",
        "colab_type": "text"
      },
      "source": [
        "<a href=\"https://colab.research.google.com/github/conniaren/GenotypeImputationProject/blob/master/2-Models/autoencoder_model_1.ipynb\" target=\"_parent\"><img src=\"https://colab.research.google.com/assets/colab-badge.svg\" alt=\"Open In Colab\"/></a>"
      ]
    },
    {
      "cell_type": "code",
      "metadata": {
        "colab": {
          "base_uri": "https://localhost:8080/"
        },
        "id": "01LCFTzdvqSi",
        "outputId": "a2194fc3-d48b-42c8-f503-17029b0cbfac"
      },
      "source": [
        "from google.colab import drive\n",
        "drive.mount('/content/gdrive')\n",
        "import scipy\n",
        "from scipy import sparse \n",
        "import numpy as np\n",
        "import torch\n",
        "from torch.utils.data import DataLoader, TensorDataset\n",
        "from torch import nn, optim "
      ],
      "execution_count": 3,
      "outputs": [
        {
          "output_type": "stream",
          "name": "stdout",
          "text": [
            "Mounted at /content/gdrive\n"
          ]
        }
      ]
    },
    {
      "cell_type": "code",
      "metadata": {
        "id": "ywKd_yhSzHSv"
      },
      "source": [
        "#upload dataset\n",
        "dataset = sparse.load_npz('gdrive/My Drive/Colab Notebooks/output_matrix.npz')\n",
        "dense_dataset = dataset.todense()\n",
        "\n",
        "#initialize dataloader for dataset\n",
        "genotype_dataset = TensorDataset(torch.tensor(dense_dataset, dtype=torch.float64))\n",
        "dataloader = DataLoader(genotype_dataset, batch_size = 10, shuffle = True, num_workers=2, pin_memory=True)\n",
        "\n",
        "class autoencoder_model_1 (nn.Module):\n",
        "  def __init__(self, **kwargs):\n",
        "    super().__init__()\n",
        "    self.input_layer = nn.Linear(in_features = kwargs[\"input_shape\"], out_features = 64)\n",
        "    self.encoder_layer = nn.Linear (in_features = 64, out_features = 64)\n",
        "    self.decoder_layer = nn.Linear (in_features = 64, out_features = 64)\n",
        "    self.output_layer = nn.Linear (in_features = 64, out_features = kwargs[\"input_shape\"])\n",
        "    self.double()\n",
        "\n",
        "  def forward (self, features):\n",
        "    input = self.input_layer(features)\n",
        "    input_activation = torch.relu(input)\n",
        "\n",
        "    encode = self.encoder_layer(input_activation)\n",
        "    encode_activation = torch.relu(encode)\n",
        "\n",
        "    decode = self.decoder_layer(encode_activation)\n",
        "    decode_activation = torch.relu(decode)\n",
        "\n",
        "    reconstruction = self.output_layer(decode_activation)\n",
        "    reconstruction = torch.relu (reconstruction)\n",
        "\n",
        "    return reconstruction"
      ],
      "execution_count": 17,
      "outputs": []
    },
    {
      "cell_type": "code",
      "metadata": {
        "id": "4gNik_wFkVme"
      },
      "source": [
        "device = torch.device(\"cuda\" if torch.cuda.is_available() else \"cpu\")\n",
        "model = autoencoder_model_1(input_shape = 264695).to(device)\n",
        "optimizer = optim.Adam(model.parameters(), lr = 1e-3)\n",
        "reconstruction_loss = nn.MSELoss()"
      ],
      "execution_count": 18,
      "outputs": []
    },
    {
      "cell_type": "code",
      "metadata": {
        "colab": {
          "base_uri": "https://localhost:8080/"
        },
        "id": "JdEZW4kZls5O",
        "outputId": "5f2091ec-cdf2-4891-c442-e2ed95bd397e"
      },
      "source": [
        "epochs = 10\n",
        "for epoch in range(epochs):\n",
        "  loss = 0 \n",
        "  for batch_features in dataloader:\n",
        "    #unpack \n",
        "    batch_features = batch_features[0].view(-1,264695).to(device)\n",
        "    #reset gradients to 0\n",
        "    optimizer.zero_grad()\n",
        "    # forward propogation \n",
        "    outputs = model(batch_features)\n",
        "    # calculate the loss\n",
        "    train_loss = reconstruction_loss(outputs,batch_features)\n",
        "    #backprop\n",
        "    train_loss.backward()\n",
        "    #update parameters with Adam optimizer \n",
        "    optimizer.step()\n",
        "    # sum the total loss across all samples\n",
        "    loss += train_loss.item()\n",
        "\n",
        "  # take the average loss in an epoch\n",
        "  loss = loss/len(dataloader)\n",
        "  print( \"epoch: {}/{}, loss: {:.6f}\".format(epoch+1, epochs, loss))"
      ],
      "execution_count": 19,
      "outputs": [
        {
          "output_type": "stream",
          "name": "stdout",
          "text": [
            "epoch: 1/10, loss: 0.681486\n",
            "epoch: 2/10, loss: 0.402392\n",
            "epoch: 3/10, loss: 0.354831\n",
            "epoch: 4/10, loss: 0.319993\n",
            "epoch: 5/10, loss: 0.308953\n",
            "epoch: 6/10, loss: 0.306715\n",
            "epoch: 7/10, loss: 0.306212\n",
            "epoch: 8/10, loss: 0.306045\n",
            "epoch: 9/10, loss: 0.305980\n",
            "epoch: 10/10, loss: 0.306031\n"
          ]
        }
      ]
    },
    {
      "cell_type": "code",
      "metadata": {
        "id": "QKpPADg5ob7B"
      },
      "source": [
        "torch.save(model.state_dict(), 'checkpoint.pth')\n",
        "from google.colab import files \n",
        "files.download('checkpoint.pth')"
      ],
      "execution_count": null,
      "outputs": []
    },
    {
      "cell_type": "code",
      "metadata": {
        "id": "3_ZzoBEYoz57"
      },
      "source": [
        "state_dict = torch.load('checkpoint.pth')\n",
        "model.load_state_dict(state_dict)"
      ],
      "execution_count": null,
      "outputs": []
    }
  ]
}